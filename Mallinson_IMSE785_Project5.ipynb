{
  "nbformat": 4,
  "nbformat_minor": 0,
  "metadata": {
    "application/vnd.databricks.v1+notebook": {
      "notebookName": "IMSE785_Project5",
      "dashboards": [],
      "notebookMetadata": {
        "pythonIndentUnit": 2
      },
      "language": "python",
      "widgets": {},
      "notebookOrigID": 2979201963166606
    },
    "colab": {
      "name": "Mallinson_IMSE785_Project5.ipynb",
      "provenance": []
    }
  },
  "cells": [
    {
      "cell_type": "markdown",
      "metadata": {
        "id": "dSdlpkucmzcg"
      },
      "source": [
        "#### Thomas Mallinson - IMSE 785 - Project 5"
      ]
    },
    {
      "cell_type": "code",
      "metadata": {
        "application/vnd.databricks.v1+cell": {
          "title": "",
          "showTitle": false,
          "inputWidgets": {},
          "nuid": "66878696-8311-486d-a4e7-6c00f9880e57"
        },
        "id": "5w1ImnfAlBbA",
        "outputId": "d1b0c837-4101-4733-c92e-4c8154b18cbd"
      },
      "source": [
        "# Loading data\n",
        "df = spark.read.format(\"csv\").option(\"inferscema\", \"true\").load(\"/FileStore/tables/crimes.csv\") \n",
        "df.show(1)"
      ],
      "execution_count": null,
      "outputs": [
        {
          "output_type": "display_data",
          "data": {
            "text/html": [
              "<style scoped>\n",
              "  .ansiout {\n",
              "    display: block;\n",
              "    unicode-bidi: embed;\n",
              "    white-space: pre-wrap;\n",
              "    word-wrap: break-word;\n",
              "    word-break: break-all;\n",
              "    font-family: \"Source Code Pro\", \"Menlo\", monospace;;\n",
              "    font-size: 13px;\n",
              "    color: #555;\n",
              "    margin-left: 4px;\n",
              "    line-height: 19px;\n",
              "  }\n",
              "</style>\n",
              "<div class=\"ansiout\">+-----------+------------+\n",
              "        _c0|         _c1|\n",
              "+-----------+------------+\n",
              "41.85118101|-87.70538082|\n",
              "+-----------+------------+\n",
              "only showing top 1 row\n",
              "\n",
              "</div>"
            ]
          },
          "metadata": {
            "tags": [],
            "application/vnd.databricks.v1+output": {
              "datasetInfos": [],
              "data": "<div class=\"ansiout\">+-----------+------------+\n|        _c0|         _c1|\n+-----------+------------+\n|41.85118101|-87.70538082|\n+-----------+------------+\nonly showing top 1 row\n\n</div>",
              "removedWidgets": [],
              "addedWidgets": {},
              "type": "html",
              "arguments": {}
            }
          }
        }
      ]
    },
    {
      "cell_type": "code",
      "metadata": {
        "application/vnd.databricks.v1+cell": {
          "title": "",
          "showTitle": false,
          "inputWidgets": {},
          "nuid": "1259d4e7-dec9-4774-89b5-567bba043d65"
        },
        "id": "xeCmyvfAlBbH",
        "outputId": "22077b02-c630-4c41-ebf2-38e1b8f1aed1"
      },
      "source": [
        "# It seems like newer versions of spark prefer using the pyspark.ml library instead of the rdd-based mlib. MLib is becoming deprecated\n",
        "from pyspark.ml.feature import VectorAssembler\n",
        "from pyspark.sql.functions import col\n",
        "\n",
        "# changing data types to float\n",
        "df1 = df.withColumn('_c0', df['_c0'].cast('float'))\n",
        "df1 = df1.withColumn('_c1', df['_c1'].cast('float'))\n",
        "df1.printSchema()\n",
        "\n",
        "# assemble features\n",
        "vecAssembler = VectorAssembler(inputCols=[\"_c0\", \"_c1\"], outputCol=\"features\")\n",
        "new_df = vecAssembler.transform(df1)\n",
        "new_df.show(5)"
      ],
      "execution_count": null,
      "outputs": [
        {
          "output_type": "display_data",
          "data": {
            "text/html": [
              "<style scoped>\n",
              "  .ansiout {\n",
              "    display: block;\n",
              "    unicode-bidi: embed;\n",
              "    white-space: pre-wrap;\n",
              "    word-wrap: break-word;\n",
              "    word-break: break-all;\n",
              "    font-family: \"Source Code Pro\", \"Menlo\", monospace;;\n",
              "    font-size: 13px;\n",
              "    color: #555;\n",
              "    margin-left: 4px;\n",
              "    line-height: 19px;\n",
              "  }\n",
              "</style>\n",
              "<div class=\"ansiout\">root\n",
              "-- _c0: float (nullable = true)\n",
              "-- _c1: float (nullable = true)\n",
              "\n",
              "+---------+---------+--------------------+\n",
              "      _c0|      _c1|            features|\n",
              "+---------+---------+--------------------+\n",
              " 41.85118|-87.70538|[41.8511810302734...|\n",
              "41.878998|-87.72429|[41.8789978027343...|\n",
              "41.904835|-87.75795|[41.9048347473144...|\n",
              " 41.88364|-87.76038|[41.8836402893066...|\n",
              " 41.88364|-87.76038|[41.8836402893066...|\n",
              "+---------+---------+--------------------+\n",
              "only showing top 5 rows\n",
              "\n",
              "</div>"
            ]
          },
          "metadata": {
            "tags": [],
            "application/vnd.databricks.v1+output": {
              "datasetInfos": [],
              "data": "<div class=\"ansiout\">root\n |-- _c0: float (nullable = true)\n |-- _c1: float (nullable = true)\n\n+---------+---------+--------------------+\n|      _c0|      _c1|            features|\n+---------+---------+--------------------+\n| 41.85118|-87.70538|[41.8511810302734...|\n|41.878998|-87.72429|[41.8789978027343...|\n|41.904835|-87.75795|[41.9048347473144...|\n| 41.88364|-87.76038|[41.8836402893066...|\n| 41.88364|-87.76038|[41.8836402893066...|\n+---------+---------+--------------------+\nonly showing top 5 rows\n\n</div>",
              "removedWidgets": [],
              "addedWidgets": {},
              "type": "html",
              "arguments": {}
            }
          }
        }
      ]
    },
    {
      "cell_type": "code",
      "metadata": {
        "application/vnd.databricks.v1+cell": {
          "title": "",
          "showTitle": false,
          "inputWidgets": {},
          "nuid": "0b4d4855-c5f1-4bb0-90cb-f4c1efccb5b6"
        },
        "id": "WCapBmjKlBbI",
        "outputId": "36c82d00-d4aa-4218-bbf0-661b8730615e"
      },
      "source": [
        "# 1. Split the dataset into 80/20 train/test datasets. Report the number of points for each dataset. Each row represents the location of a crime scene in Chicago areas.\n",
        "(trainingData, testData) = new_df.randomSplit([0.8, 0.2], seed=100)\n",
        "print(\"Training data count is:\", trainingData.count())\n",
        "print(\"Test data count is:\", testData.count())"
      ],
      "execution_count": null,
      "outputs": [
        {
          "output_type": "display_data",
          "data": {
            "text/html": [
              "<style scoped>\n",
              "  .ansiout {\n",
              "    display: block;\n",
              "    unicode-bidi: embed;\n",
              "    white-space: pre-wrap;\n",
              "    word-wrap: break-word;\n",
              "    word-break: break-all;\n",
              "    font-family: \"Source Code Pro\", \"Menlo\", monospace;;\n",
              "    font-size: 13px;\n",
              "    color: #555;\n",
              "    margin-left: 4px;\n",
              "    line-height: 19px;\n",
              "  }\n",
              "</style>\n",
              "<div class=\"ansiout\">Training data count is: 833900\n",
              "Test data count is: 208574\n",
              "</div>"
            ]
          },
          "metadata": {
            "tags": [],
            "application/vnd.databricks.v1+output": {
              "datasetInfos": [],
              "data": "<div class=\"ansiout\">Training data count is: 833900\nTest data count is: 208574\n</div>",
              "removedWidgets": [],
              "addedWidgets": {},
              "type": "html",
              "arguments": {}
            }
          }
        }
      ]
    },
    {
      "cell_type": "code",
      "metadata": {
        "application/vnd.databricks.v1+cell": {
          "title": "",
          "showTitle": false,
          "inputWidgets": {},
          "nuid": "75c7691e-c89e-48a3-b158-4890f055fde7"
        },
        "id": "S8_gRhoflBbI",
        "outputId": "0c671187-99a8-45f4-9187-77ec696f57a9"
      },
      "source": [
        "# 2. Build a K-means model using the training dataset. Report the cluster centers. Plot them on Google Maps. How many clusters provide the best fits in terms of MSE?\n",
        "from pyspark.ml.clustering import KMeans\n",
        "from pyspark.ml.evaluation import ClusteringEvaluator\n",
        "\n",
        "# Visualizing the silhouette score\n",
        "silhouette_score = []\n",
        "\n",
        "evaluator = ClusteringEvaluator(predictionCol='prediction', featuresCol='features', \\\n",
        "                                metricName='silhouette', distanceMeasure='squaredEuclidean')\n",
        "for i in range(2,10):\n",
        "    KMeans_algo=KMeans(featuresCol='features', k=i)\n",
        "    KMeans_fit=KMeans_algo.fit(trainingData)   \n",
        "    output=KMeans_fit.transform(trainingData)\n",
        "    score=evaluator.evaluate(output)   \n",
        "    silhouette_score.append(score)   \n",
        "    print(\"Silhouette Score:\",score)\n",
        "    \n",
        "#Visualizing the silhouette scores in a plot\n",
        "import matplotlib.pyplot as plt\n",
        "fig, ax = plt.subplots(1,1, figsize =(8,6))\n",
        "ax.plot(range(2,10),silhouette_score)\n",
        "ax.set_xlabel(\"k\")\n",
        "ax.set_ylabel(\"cost\")"
      ],
      "execution_count": null,
      "outputs": [
        {
          "output_type": "display_data",
          "data": {
            "text/html": [
              "<style scoped>\n",
              "  .ansiout {\n",
              "    display: block;\n",
              "    unicode-bidi: embed;\n",
              "    white-space: pre-wrap;\n",
              "    word-wrap: break-word;\n",
              "    word-break: break-all;\n",
              "    font-family: \"Source Code Pro\", \"Menlo\", monospace;;\n",
              "    font-size: 13px;\n",
              "    color: #555;\n",
              "    margin-left: 4px;\n",
              "    line-height: 19px;\n",
              "  }\n",
              "</style>\n",
              "<div class=\"ansiout\">Silhouette Score: 0.7205491503041752\n",
              "Silhouette Score: 0.608989481696515\n",
              "Silhouette Score: 0.5268277160718198\n",
              "Silhouette Score: 0.5340370464184336\n",
              "Silhouette Score: 0.5539310641465923\n",
              "Silhouette Score: 0.5352998792000959\n",
              "Silhouette Score: 0.5094965667544492\n",
              "Silhouette Score: 0.504343545220339\n",
              "Out[45]: </div>"
            ]
          },
          "metadata": {
            "tags": [],
            "application/vnd.databricks.v1+output": {
              "datasetInfos": [],
              "data": "<div class=\"ansiout\">Silhouette Score: 0.7205491503041752\nSilhouette Score: 0.608989481696515\nSilhouette Score: 0.5268277160718198\nSilhouette Score: 0.5340370464184336\nSilhouette Score: 0.5539310641465923\nSilhouette Score: 0.5352998792000959\nSilhouette Score: 0.5094965667544492\nSilhouette Score: 0.504343545220339\nOut[45]: </div>",
              "removedWidgets": [],
              "addedWidgets": {},
              "type": "html",
              "arguments": {}
            }
          }
        },
        {
          "output_type": "display_data",
          "data": {
            "image/png": "[encoded data removed]"
          },
          "metadata": {
            "tags": [],
            "application/vnd.databricks.v1+output": {
              "datasetInfos": [],
              "data": "/plots/50a66879-9ed8-46e2-8bdb-2ebde931f93c.png",
              "removedWidgets": [],
              "addedWidgets": {},
              "type": "image",
              "arguments": {}
            }
          }
        },
        {
          "output_type": "display_data",
          "data": {
            "text/html": [
              "<style scoped>\n",
              "  .ansiout {\n",
              "    display: block;\n",
              "    unicode-bidi: embed;\n",
              "    white-space: pre-wrap;\n",
              "    word-wrap: break-word;\n",
              "    word-break: break-all;\n",
              "    font-family: \"Source Code Pro\", \"Menlo\", monospace;;\n",
              "    font-size: 13px;\n",
              "    color: #555;\n",
              "    margin-left: 4px;\n",
              "    line-height: 19px;\n",
              "  }\n",
              "</style>\n",
              "<div class=\"ansiout\">Text(0, 0.5, &#39;cost&#39;)</div>"
            ]
          },
          "metadata": {
            "tags": [],
            "application/vnd.databricks.v1+output": {
              "datasetInfos": [],
              "data": "<div class=\"ansiout\">Text(0, 0.5, &#39;cost&#39;)</div>",
              "removedWidgets": [],
              "addedWidgets": {},
              "type": "html",
              "arguments": {}
            }
          }
        }
      ]
    },
    {
      "cell_type": "code",
      "metadata": {
        "application/vnd.databricks.v1+cell": {
          "title": "",
          "showTitle": false,
          "inputWidgets": {},
          "nuid": "c257cb1d-26c4-4e0f-8907-caecab737915"
        },
        "id": "lqM2W6EClBbI",
        "outputId": "1af2be18-4756-478c-a809-9ddcf0ddd71e"
      },
      "source": [
        "# Setting k = 6 where a local maxima of Silhouette Score is observed and training a model\n",
        "kmeans = KMeans().setK(6).setSeed(1)\n",
        "model = kmeans.fit(trainingData)\n",
        "\n",
        "# Make predictions\n",
        "predictions = model.transform(trainingData)\n",
        "\n",
        "# Results of cluster centers\n",
        "centers = model.clusterCenters()\n",
        "print(\"Cluster Centers: \")\n",
        "for center in centers:\n",
        "  print(center)"
      ],
      "execution_count": null,
      "outputs": [
        {
          "output_type": "display_data",
          "data": {
            "text/html": [
              "<style scoped>\n",
              "  .ansiout {\n",
              "    display: block;\n",
              "    unicode-bidi: embed;\n",
              "    white-space: pre-wrap;\n",
              "    word-wrap: break-word;\n",
              "    word-break: break-all;\n",
              "    font-family: \"Source Code Pro\", \"Menlo\", monospace;;\n",
              "    font-size: 13px;\n",
              "    color: #555;\n",
              "    margin-left: 4px;\n",
              "    line-height: 19px;\n",
              "  }\n",
              "</style>\n",
              "<div class=\"ansiout\">Cluster Centers: \n",
              "[ 41.77747941 -87.67846542]\n",
              "[ 41.96356674 -87.67842263]\n",
              "[ 41.73647482 -87.60281991]\n",
              "[ 41.94586536 -87.77935693]\n",
              "[ 41.87255811 -87.63924834]\n",
              "[ 41.88312852 -87.72590454]\n",
              "</div>"
            ]
          },
          "metadata": {
            "tags": [],
            "application/vnd.databricks.v1+output": {
              "datasetInfos": [],
              "data": "<div class=\"ansiout\">Cluster Centers: \n[ 41.77747941 -87.67846542]\n[ 41.96356674 -87.67842263]\n[ 41.73647482 -87.60281991]\n[ 41.94586536 -87.77935693]\n[ 41.87255811 -87.63924834]\n[ 41.88312852 -87.72590454]\n</div>",
              "removedWidgets": [],
              "addedWidgets": {},
              "type": "html",
              "arguments": {}
            }
          }
        }
      ]
    },
    {
      "cell_type": "code",
      "metadata": {
        "application/vnd.databricks.v1+cell": {
          "title": "",
          "showTitle": false,
          "inputWidgets": {},
          "nuid": "ca63e53b-9a9c-40f7-bebe-dfdc37c04189"
        },
        "id": "mokAS9e0lBbJ",
        "outputId": "010fad00-c6e8-4dd6-ac91-7339d758cbf8"
      },
      "source": [
        "# 3. Classify each point in the testing dataset based on the fitted cluster centers. Report the numbers of points classified into each center and its corresponding MSE. \n",
        "# Use two pie charts to convey the same information (training and testing). Draw conclusions about the model performance\n",
        "\n",
        "# Dataframe for trainingData model\n",
        "train_df = model.transform(trainingData)\n",
        "\n",
        "# Dataframe for testData\n",
        "predict_df = model.transform(testData)\n",
        "\n",
        "# Count number in each cluster\n",
        "train_df.groupBy(\"prediction\").count().show()\n",
        "predict_df.groupBy(\"prediction\").count().show()"
      ],
      "execution_count": null,
      "outputs": [
        {
          "output_type": "display_data",
          "data": {
            "text/html": [
              "<style scoped>\n",
              "  .ansiout {\n",
              "    display: block;\n",
              "    unicode-bidi: embed;\n",
              "    white-space: pre-wrap;\n",
              "    word-wrap: break-word;\n",
              "    word-break: break-all;\n",
              "    font-family: \"Source Code Pro\", \"Menlo\", monospace;;\n",
              "    font-size: 13px;\n",
              "    color: #555;\n",
              "    margin-left: 4px;\n",
              "    line-height: 19px;\n",
              "  }\n",
              "</style>\n",
              "<div class=\"ansiout\">+----------+------+\n",
              "prediction| count|\n",
              "+----------+------+\n",
              "         1|106843|\n",
              "         3| 61512|\n",
              "         5|178468|\n",
              "         4|127274|\n",
              "         2|197505|\n",
              "         0|162298|\n",
              "+----------+------+\n",
              "\n",
              "+----------+-----+\n",
              "prediction|count|\n",
              "+----------+-----+\n",
              "         1|26953|\n",
              "         3|15281|\n",
              "         5|44374|\n",
              "         4|31851|\n",
              "         2|49757|\n",
              "         0|40358|\n",
              "+----------+-----+\n",
              "\n",
              "</div>"
            ]
          },
          "metadata": {
            "tags": [],
            "application/vnd.databricks.v1+output": {
              "datasetInfos": [],
              "data": "<div class=\"ansiout\">+----------+------+\n|prediction| count|\n+----------+------+\n|         1|106843|\n|         3| 61512|\n|         5|178468|\n|         4|127274|\n|         2|197505|\n|         0|162298|\n+----------+------+\n\n+----------+-----+\n|prediction|count|\n+----------+-----+\n|         1|26953|\n|         3|15281|\n|         5|44374|\n|         4|31851|\n|         2|49757|\n|         0|40358|\n+----------+-----+\n\n</div>",
              "removedWidgets": [],
              "addedWidgets": {},
              "type": "html",
              "arguments": {}
            }
          }
        }
      ]
    },
    {
      "cell_type": "code",
      "metadata": {
        "application/vnd.databricks.v1+cell": {
          "title": "",
          "showTitle": false,
          "inputWidgets": {},
          "nuid": "c6533c7c-adde-467a-9c6d-ac06f4b39223"
        },
        "id": "3EReAn2xlBbJ",
        "outputId": "393c4049-d5b9-4ab3-c891-b78f71cc35f5"
      },
      "source": [
        "# Visualizing counts with pie charts\n",
        "display(train_df.groupBy(\"prediction\").count())"
      ],
      "execution_count": null,
      "outputs": [
        {
          "output_type": "display_data",
          "data": {
            "text/html": [
              "<style scoped>\n",
              "  .table-result-container {\n",
              "    max-height: 300px;\n",
              "    overflow: auto;\n",
              "  }\n",
              "  table, th, td {\n",
              "    border: 1px solid black;\n",
              "    border-collapse: collapse;\n",
              "  }\n",
              "  th, td {\n",
              "    padding: 5px;\n",
              "  }\n",
              "  th {\n",
              "    text-align: left;\n",
              "  }\n",
              "</style><div class='table-result-container'><table class='table-result'><thead style='background-color: white'><tr><th>prediction</th><th>count</th></tr></thead><tbody><tr><td>1</td><td>106843</td></tr><tr><td>3</td><td>61512</td></tr><tr><td>5</td><td>178468</td></tr><tr><td>4</td><td>127274</td></tr><tr><td>2</td><td>197505</td></tr><tr><td>0</td><td>162298</td></tr></tbody></table></div>"
            ]
          },
          "metadata": {
            "tags": [],
            "application/vnd.databricks.v1+output": {
              "overflow": false,
              "datasetInfos": [],
              "data": [
                [
                  1,
                  106843
                ],
                [
                  3,
                  61512
                ],
                [
                  5,
                  178468
                ],
                [
                  4,
                  127274
                ],
                [
                  2,
                  197505
                ],
                [
                  0,
                  162298
                ]
              ],
              "plotOptions": {
                "displayType": "pieChart",
                "customPlotOptions": {},
                "pivotColumns": null,
                "pivotAggregation": null,
                "xColumns": null,
                "yColumns": null
              },
              "columnCustomDisplayInfos": {},
              "aggType": "",
              "isJsonSchema": true,
              "removedWidgets": [],
              "aggSchema": [],
              "schema": [
                {
                  "name": "prediction",
                  "type": "\"integer\"",
                  "metadata": "{\"ml_attr\":{\"type\":\"nominal\",\"num_vals\":6}}"
                },
                {
                  "name": "count",
                  "type": "\"long\"",
                  "metadata": "{}"
                }
              ],
              "aggError": "",
              "aggData": [],
              "addedWidgets": {},
              "dbfsResultPath": null,
              "type": "table",
              "aggOverflow": false,
              "aggSeriesLimitReached": false,
              "arguments": {}
            }
          }
        }
      ]
    },
    {
      "cell_type": "code",
      "metadata": {
        "application/vnd.databricks.v1+cell": {
          "title": "",
          "showTitle": false,
          "inputWidgets": {},
          "nuid": "5623ffca-d6b5-45bb-ad55-71354d08d52b"
        },
        "id": "frOA9O3blBbJ",
        "outputId": "56075edd-93e5-4f5a-da05-cc5859f33488"
      },
      "source": [
        "display(predict_df.groupBy(\"prediction\").count())"
      ],
      "execution_count": null,
      "outputs": [
        {
          "output_type": "display_data",
          "data": {
            "text/html": [
              "<style scoped>\n",
              "  .table-result-container {\n",
              "    max-height: 300px;\n",
              "    overflow: auto;\n",
              "  }\n",
              "  table, th, td {\n",
              "    border: 1px solid black;\n",
              "    border-collapse: collapse;\n",
              "  }\n",
              "  th, td {\n",
              "    padding: 5px;\n",
              "  }\n",
              "  th {\n",
              "    text-align: left;\n",
              "  }\n",
              "</style><div class='table-result-container'><table class='table-result'><thead style='background-color: white'><tr><th>prediction</th><th>count</th></tr></thead><tbody><tr><td>1</td><td>26953</td></tr><tr><td>3</td><td>15281</td></tr><tr><td>5</td><td>44374</td></tr><tr><td>4</td><td>31851</td></tr><tr><td>2</td><td>49757</td></tr><tr><td>0</td><td>40358</td></tr></tbody></table></div>"
            ]
          },
          "metadata": {
            "tags": [],
            "application/vnd.databricks.v1+output": {
              "overflow": false,
              "datasetInfos": [],
              "data": [
                [
                  1,
                  26953
                ],
                [
                  3,
                  15281
                ],
                [
                  5,
                  44374
                ],
                [
                  4,
                  31851
                ],
                [
                  2,
                  49757
                ],
                [
                  0,
                  40358
                ]
              ],
              "plotOptions": {
                "displayType": "pieChart",
                "customPlotOptions": {},
                "pivotColumns": null,
                "pivotAggregation": null,
                "xColumns": null,
                "yColumns": null
              },
              "columnCustomDisplayInfos": {},
              "aggType": "",
              "isJsonSchema": true,
              "removedWidgets": [],
              "aggSchema": [],
              "schema": [
                {
                  "name": "prediction",
                  "type": "\"integer\"",
                  "metadata": "{\"ml_attr\":{\"type\":\"nominal\",\"num_vals\":6}}"
                },
                {
                  "name": "count",
                  "type": "\"long\"",
                  "metadata": "{}"
                }
              ],
              "aggError": "",
              "aggData": [],
              "addedWidgets": {},
              "dbfsResultPath": null,
              "type": "table",
              "aggOverflow": false,
              "aggSeriesLimitReached": false,
              "arguments": {}
            }
          }
        }
      ]
    },
    {
      "cell_type": "markdown",
      "metadata": {
        "id": "prYfUV1ImNS9"
      },
      "source": [
        "Silhouette refers to a method of interpretation and validation of consistency within clusters of data. The technique provides a succinct graphical representation of how well each object has been classified."
      ]
    },
    {
      "cell_type": "code",
      "metadata": {
        "application/vnd.databricks.v1+cell": {
          "title": "",
          "showTitle": false,
          "inputWidgets": {},
          "nuid": "5bf80229-a8cc-4757-b3fb-f3195a09f878"
        },
        "id": "-YsiOCIglBbK",
        "outputId": "2d5813d8-73b9-4fe0-cefa-4e8a765cf992"
      },
      "source": [
        "# Silhoutte score instead of utilizing MSE (better suited for interpretation and validation of consistency within clusters of data)\n",
        "silhouette = evaluator.evaluate(predict_df)\n",
        "print(\"Silhouette with squared euclidean distance = \" + str(silhouette))"
      ],
      "execution_count": null,
      "outputs": [
        {
          "output_type": "display_data",
          "data": {
            "text/html": [
              "<style scoped>\n",
              "  .ansiout {\n",
              "    display: block;\n",
              "    unicode-bidi: embed;\n",
              "    white-space: pre-wrap;\n",
              "    word-wrap: break-word;\n",
              "    word-break: break-all;\n",
              "    font-family: \"Source Code Pro\", \"Menlo\", monospace;;\n",
              "    font-size: 13px;\n",
              "    color: #555;\n",
              "    margin-left: 4px;\n",
              "    line-height: 19px;\n",
              "  }\n",
              "</style>\n",
              "<div class=\"ansiout\">Silhouette with squared euclidean distance = 0.5699839107090422\n",
              "</div>"
            ]
          },
          "metadata": {
            "tags": [],
            "application/vnd.databricks.v1+output": {
              "datasetInfos": [],
              "data": "<div class=\"ansiout\">Silhouette with squared euclidean distance = 0.5699839107090422\n</div>",
              "removedWidgets": [],
              "addedWidgets": {},
              "type": "html",
              "arguments": {}
            }
          }
        }
      ]
    },
    {
      "cell_type": "markdown",
      "metadata": {
        "id": "5BJSci4fmG-Q"
      },
      "source": [
        "When analyzing the pie charts and distribution of points within clusters, the % breakdown is identical for both the training and testing data when rounded to a whole %. This indicates that our model is very strong in classifying the test data into the correct clusters."
      ]
    },
    {
      "cell_type": "markdown",
      "metadata": {
        "id": "Uk70LJqplTEl"
      },
      "source": [
        "### 4. Can this clustering information help Chicago PD or politicians make informed decisions? Discuss?"
      ]
    },
    {
      "cell_type": "markdown",
      "metadata": {
        "id": "XBytqmkglYOo"
      },
      "source": [
        "Yes, the information from this modeling could be presented to these audiences in order to help aid them where to focus their concentrations. Police may find it useful to patrol these areas to increase their probabilities in preventing crimes. Politicians may like to know where these areas are to implement strategies to help or attempt to slow the crime rates down."
      ]
    }
  ]
}